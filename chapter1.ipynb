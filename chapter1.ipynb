{
 "cells": [
  {
   "cell_type": "markdown",
   "metadata": {},
   "source": [
    "# Using Transformers Model With Pipeline()"
   ]
  },
  {
   "cell_type": "code",
   "execution_count": 1,
   "metadata": {},
   "outputs": [
    {
     "name": "stderr",
     "output_type": "stream",
     "text": [
      "No model was supplied, defaulted to distilbert-base-uncased-finetuned-sst-2-english (https://huggingface.co/distilbert-base-uncased-finetuned-sst-2-english)\n",
      "Downloading: 100%|██████████| 629/629 [00:00<00:00, 313kB/s]\n",
      "Downloading: 100%|██████████| 268M/268M [00:25<00:00, 10.4MB/s]\n",
      "Downloading: 100%|██████████| 48.0/48.0 [00:00<00:00, 19.2kB/s]\n",
      "Downloading: 100%|██████████| 232k/232k [00:03<00:00, 73.6kB/s]\n"
     ]
    },
    {
     "data": {
      "text/plain": [
       "[{'label': 'POSITIVE', 'score': 0.9598047137260437}]"
      ]
     },
     "execution_count": 1,
     "metadata": {},
     "output_type": "execute_result"
    }
   ],
   "source": [
    "from transformers import pipeline\n",
    "\n",
    "classifier = pipeline(\"sentiment-analysis\")\n",
    "classifier(\"I've been waiting for a HuggingFace course my whole life.\")"
   ]
  },
  {
   "cell_type": "code",
   "execution_count": 2,
   "metadata": {},
   "outputs": [
    {
     "data": {
      "text/plain": [
       "[{'label': 'POSITIVE', 'score': 0.9598047137260437},\n",
       " {'label': 'NEGATIVE', 'score': 0.9994558691978455}]"
      ]
     },
     "execution_count": 2,
     "metadata": {},
     "output_type": "execute_result"
    }
   ],
   "source": [
    "classifier(\n",
    "    [\"I've been waiting for a HuggingFace course my whole life.\", \"I hate this so much!\"]\n",
    ")"
   ]
  },
  {
   "cell_type": "code",
   "execution_count": 5,
   "metadata": {},
   "outputs": [
    {
     "name": "stderr",
     "output_type": "stream",
     "text": [
      "No model was supplied, defaulted to facebook/bart-large-mnli (https://huggingface.co/facebook/bart-large-mnli)\n"
     ]
    },
    {
     "data": {
      "text/plain": [
       "[{'sequence': 'Apollo was the most handsome god.',\n",
       "  'labels': ['mythology',\n",
       "   'rococo',\n",
       "   'baroque',\n",
       "   'education',\n",
       "   'business',\n",
       "   'politics'],\n",
       "  'scores': [0.7253344058990479,\n",
       "   0.14685873687267303,\n",
       "   0.08382480591535568,\n",
       "   0.018684441223740578,\n",
       "   0.015177208930253983,\n",
       "   0.010120351798832417]},\n",
       " {'sequence': \"Vivaldi's the Four Seasons is the most famous classical music.\",\n",
       "  'labels': ['baroque',\n",
       "   'rococo',\n",
       "   'education',\n",
       "   'mythology',\n",
       "   'business',\n",
       "   'politics'],\n",
       "  'scores': [0.6083346009254456,\n",
       "   0.17150133848190308,\n",
       "   0.08397631347179413,\n",
       "   0.054037004709243774,\n",
       "   0.048347897827625275,\n",
       "   0.0338028147816658]}]"
      ]
     },
     "execution_count": 5,
     "metadata": {},
     "output_type": "execute_result"
    }
   ],
   "source": [
    "classifier = pipeline(\"zero-shot-classification\")\n",
    "classifier(\n",
    "    [\"Apollo was the most handsome god.\", \"Vivaldi's the Four Seasons is the most famous classical music.\"],\n",
    "    candidate_labels=[\"education\", \"politics\", \"business\", \"mythology\", \"baroque\", \"rococo\"]\n",
    ")"
   ]
  },
  {
   "cell_type": "markdown",
   "metadata": {},
   "source": [
    "## Transformers\n",
    "\n",
    "### Terminology\n",
    "- Model: architecture and checkpoints\n",
    "- Architecture: definition of each layer and operation in the model, BART\n",
    "- Checkpoints: weights loaded in a given architecture, bart-base-cased\n",
    "\n",
    "### Model Development\n",
    "- Pretraining uses self-supervised training\n",
    "- Fine-tuning uses supervised training\n",
    "\n",
    "### Types of Models\n",
    "- Encoder (BERT)\n",
    "- Decoder (GPT3)\n",
    "- Encoder-Decoder/Sequence-to-Sequence (BART)"
   ]
  }
 ],
 "metadata": {
  "interpreter": {
   "hash": "37833eaa7c79fc29fc64cdd65cef9244dd84f1f67a5ba8cd87f16f157512cb2c"
  },
  "kernelspec": {
   "display_name": "Python 3.8.10 64-bit",
   "language": "python",
   "name": "python3"
  },
  "language_info": {
   "codemirror_mode": {
    "name": "ipython",
    "version": 3
   },
   "file_extension": ".py",
   "mimetype": "text/x-python",
   "name": "python",
   "nbconvert_exporter": "python",
   "pygments_lexer": "ipython3",
   "version": "3.8.10"
  },
  "orig_nbformat": 4
 },
 "nbformat": 4,
 "nbformat_minor": 2
}
